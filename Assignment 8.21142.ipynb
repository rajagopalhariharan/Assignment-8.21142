{
 "cells": [
  {
   "cell_type": "code",
   "execution_count": 1,
   "metadata": {},
   "outputs": [],
   "source": [
    "#Create an sqlalchemy engine using a sample from the data set \n",
    "#import pandas as pd\n",
    "#import sqlite3\n",
    "#Using local csv file as 404 http error is coming sometimes\n",
    "#df=pd.read_csv(r'C:\\Users\\sidha\\Documents\\GitHub\\ACD_MDS_Online_V5_Session_13_Assignment_1_Main\\adult_data.csv')\n",
    "#df=df.head(100)\n",
    "#rename columns\n",
    "#df.columns=['age','workclass','fnlwgt','education','education_num','marital_status','occupation','relationship','race','sex','capital_gain'\n",
    "           #,'capital_loss','hours_per_week','native_country','salary']\n",
    "#Start db connection\n",
    "#conn = sqlite3.connect('sqladb.db')\n",
    "#cur = conn.cursor()\n",
    "#create table\n",
    "#cur.execute(\"create table adult (id integer,age integer,workclass text,fnlwgt integer,education test ,education_num integer ,marital_status text,occupation text,relationship text,race text,sex text,capital_gain integer,capital_loss integer,hours_per_week integer,native_country text,salary text)\")\n",
    "#insert data into table"
   ]
  },
  {
   "cell_type": "code",
   "execution_count": 2,
   "metadata": {},
   "outputs": [
    {
     "name": "stdout",
     "output_type": "stream",
     "text": [
      "2019-05-19 15:01:12,927 INFO sqlalchemy.engine.base.Engine SELECT CAST('test plain returns' AS VARCHAR(60)) AS anon_1\n",
      "2019-05-19 15:01:12,928 INFO sqlalchemy.engine.base.Engine ()\n",
      "2019-05-19 15:01:12,930 INFO sqlalchemy.engine.base.Engine SELECT CAST('test unicode returns' AS VARCHAR(60)) AS anon_1\n",
      "2019-05-19 15:01:12,931 INFO sqlalchemy.engine.base.Engine ()\n",
      "2019-05-19 15:01:12,942 INFO sqlalchemy.engine.base.Engine PRAGMA table_info(\"adult\")\n",
      "2019-05-19 15:01:12,944 INFO sqlalchemy.engine.base.Engine ()\n",
      "2019-05-19 15:01:12,952 INFO sqlalchemy.engine.base.Engine \n",
      "CREATE TABLE adult (\n",
      "\tid INTEGER NOT NULL, \n",
      "\tage INTEGER, \n",
      "\tworkclass VARCHAR(250), \n",
      "\tfnlwgt INTEGER, \n",
      "\teducation VARCHAR(250), \n",
      "\teducation_num INTEGER, \n",
      "\tmarital_status VARCHAR(250), \n",
      "\toccupation VARCHAR(250), \n",
      "\trelationship VARCHAR(250), \n",
      "\trace VARCHAR(250), \n",
      "\tsex VARCHAR(250), \n",
      "\tcapital_gain INTEGER, \n",
      "\tcapital_loss INTEGER, \n",
      "\thours_per_week INTEGER, \n",
      "\tnative_country VARCHAR(250), \n",
      "\tsalary VARCHAR(250), \n",
      "\tPRIMARY KEY (id)\n",
      ")\n",
      "\n",
      "\n",
      "2019-05-19 15:01:12,954 INFO sqlalchemy.engine.base.Engine ()\n",
      "2019-05-19 15:01:13,167 INFO sqlalchemy.engine.base.Engine COMMIT\n"
     ]
    }
   ],
   "source": [
    "#Import required libraries\n",
    "import os\n",
    "import sys\n",
    "from sqlalchemy import Column, ForeignKey, Integer, String\n",
    "from sqlalchemy.ext.declarative import declarative_base\n",
    "from sqlalchemy.orm import relationship\n",
    "from sqlalchemy import create_engine\n",
    "Base = declarative_base()\n",
    "\n",
    "#create class adult for table \n",
    "class Adult(Base):\n",
    "    __tablename__ = 'adult'\n",
    "    # Here we define columns for the table person\n",
    "    # Notice that each column is also a normal Python instance attribute.\n",
    "    id = Column(Integer, primary_key=True)\n",
    "    age =Column(Integer)\n",
    "    workclass =Column(String(250))\n",
    "    fnlwgt = Column(Integer)\n",
    "    education= Column(String(250)) \n",
    "    education_num=Column(Integer)\n",
    "    marital_status= Column(String(250))\n",
    "    occupation=Column(String(250))\n",
    "    relationship=Column(String(250))\n",
    "    race= Column(String(250))\n",
    "    sex=Column(String(250))\n",
    "    capital_gain=Column(Integer)\n",
    "    capital_loss=Column(Integer)\n",
    "    hours_per_week=Column(Integer)\n",
    "    native_country=Column(String(250))\n",
    "    salary=Column(String(250))\n",
    "#Create sqlalchmy engine for db    \n",
    "engine = create_engine('sqlite:///sqlalchmy2.db',echo=True) \n",
    "Base.metadata.create_all(engine)"
   ]
  },
  {
   "cell_type": "code",
   "execution_count": 3,
   "metadata": {},
   "outputs": [],
   "source": [
    "#Bind the session with engine and initiate the session\n",
    "from sqlalchemy.orm import sessionmaker\n",
    "DBSession = sessionmaker(bind=engine)\n",
    "session = DBSession()"
   ]
  },
  {
   "cell_type": "code",
   "execution_count": 4,
   "metadata": {},
   "outputs": [
    {
     "name": "stdout",
     "output_type": "stream",
     "text": [
      "2019-05-19 15:02:12,398 INFO sqlalchemy.engine.base.Engine BEGIN (implicit)\n",
      "2019-05-19 15:02:12,401 INFO sqlalchemy.engine.base.Engine SELECT adult.id AS adult_id, adult.age AS adult_age, adult.workclass AS adult_workclass, adult.fnlwgt AS adult_fnlwgt, adult.education AS adult_education, adult.education_num AS adult_education_num, adult.marital_status AS adult_marital_status, adult.occupation AS adult_occupation, adult.relationship AS adult_relationship, adult.race AS adult_race, adult.sex AS adult_sex, adult.capital_gain AS adult_capital_gain, adult.capital_loss AS adult_capital_loss, adult.hours_per_week AS adult_hours_per_week, adult.native_country AS adult_native_country, adult.salary AS adult_salary \n",
      "FROM adult\n",
      "2019-05-19 15:02:12,403 INFO sqlalchemy.engine.base.Engine ()\n"
     ]
    }
   ],
   "source": [
    "#Qn2 Write two basic update queries\n",
    "from sqlalchemy import update\n",
    "#Select some rows and print\n",
    "all_rows=session.query(Adult).all()\n",
    "for row in all_rows:\n",
    "    print(str(row.id)+' '+row.workclass+' '+row.education+' '+str(row.age))"
   ]
  },
  {
   "cell_type": "code",
   "execution_count": 5,
   "metadata": {},
   "outputs": [
    {
     "name": "stdout",
     "output_type": "stream",
     "text": [
      "2019-05-19 15:02:46,668 INFO sqlalchemy.engine.base.Engine UPDATE adult SET age=? WHERE adult.id = ?\n",
      "2019-05-19 15:02:46,669 INFO sqlalchemy.engine.base.Engine (50, 123)\n",
      "2019-05-19 15:02:46,675 INFO sqlalchemy.engine.base.Engine UPDATE adult SET age=? WHERE adult.id = ?\n",
      "2019-05-19 15:02:46,677 INFO sqlalchemy.engine.base.Engine (60, 346)\n",
      "2019-05-19 15:02:46,681 INFO sqlalchemy.engine.base.Engine SELECT adult.id AS adult_id, adult.age AS adult_age, adult.workclass AS adult_workclass, adult.fnlwgt AS adult_fnlwgt, adult.education AS adult_education, adult.education_num AS adult_education_num, adult.marital_status AS adult_marital_status, adult.occupation AS adult_occupation, adult.relationship AS adult_relationship, adult.race AS adult_race, adult.sex AS adult_sex, adult.capital_gain AS adult_capital_gain, adult.capital_loss AS adult_capital_loss, adult.hours_per_week AS adult_hours_per_week, adult.native_country AS adult_native_country, adult.salary AS adult_salary \n",
      "FROM adult\n",
      "2019-05-19 15:02:46,683 INFO sqlalchemy.engine.base.Engine ()\n"
     ]
    }
   ],
   "source": [
    "#update the rows\n",
    "session.query(Adult).filter_by(id=123).update({\"age\":50})\n",
    "session.query(Adult).filter_by(id=346).update({\"age\":60})\n",
    "all_rows=session.query(Adult).all()\n",
    "#print updated rows\n",
    "for row in all_rows:\n",
    "    print(str(row.id)+' '+row.workclass+' '+row.education+' '+str(row.age))"
   ]
  },
  {
   "cell_type": "code",
   "execution_count": 6,
   "metadata": {},
   "outputs": [
    {
     "name": "stdout",
     "output_type": "stream",
     "text": [
      "2019-05-19 15:04:01,912 INFO sqlalchemy.engine.base.Engine DELETE FROM adult WHERE adult.id = ?\n",
      "2019-05-19 15:04:01,914 INFO sqlalchemy.engine.base.Engine (123,)\n",
      "2019-05-19 15:04:01,919 INFO sqlalchemy.engine.base.Engine DELETE FROM adult WHERE adult.id = ?\n",
      "2019-05-19 15:04:01,920 INFO sqlalchemy.engine.base.Engine (346,)\n",
      "2019-05-19 15:04:01,922 INFO sqlalchemy.engine.base.Engine COMMIT\n"
     ]
    }
   ],
   "source": [
    "#Qn3 Write two delete queries\n",
    "from sqlalchemy import delete\n",
    "#Delete rows and commit\n",
    "session.query(Adult).filter_by(id=123).delete()\n",
    "session.query(Adult).filter_by(id=346).delete()\n",
    "session.commit()"
   ]
  },
  {
   "cell_type": "code",
   "execution_count": 7,
   "metadata": {},
   "outputs": [
    {
     "name": "stdout",
     "output_type": "stream",
     "text": [
      "2019-05-19 15:04:16,256 INFO sqlalchemy.engine.base.Engine BEGIN (implicit)\n",
      "2019-05-19 15:04:16,258 INFO sqlalchemy.engine.base.Engine SELECT adult.id AS adult_id, adult.age AS adult_age, adult.workclass AS adult_workclass, adult.fnlwgt AS adult_fnlwgt, adult.education AS adult_education, adult.education_num AS adult_education_num, adult.marital_status AS adult_marital_status, adult.occupation AS adult_occupation, adult.relationship AS adult_relationship, adult.race AS adult_race, adult.sex AS adult_sex, adult.capital_gain AS adult_capital_gain, adult.capital_loss AS adult_capital_loss, adult.hours_per_week AS adult_hours_per_week, adult.native_country AS adult_native_country, adult.salary AS adult_salary \n",
      "FROM adult\n",
      "2019-05-19 15:04:16,261 INFO sqlalchemy.engine.base.Engine ()\n"
     ]
    }
   ],
   "source": [
    "#print curreent instance values after deleting \n",
    "all_rows=session.query(Adult).all()\n",
    "for row in all_rows:\n",
    "    print(str(row.id)+' '+row.workclass+' '+row.education+' '+str(row.age))"
   ]
  },
  {
   "cell_type": "code",
   "execution_count": 8,
   "metadata": {},
   "outputs": [
    {
     "name": "stdout",
     "output_type": "stream",
     "text": [
      "2019-05-19 15:04:51,403 INFO sqlalchemy.engine.base.Engine SELECT adult.id AS adult_id, adult.age AS adult_age, adult.workclass AS adult_workclass, adult.fnlwgt AS adult_fnlwgt, adult.education AS adult_education, adult.education_num AS adult_education_num, adult.marital_status AS adult_marital_status, adult.occupation AS adult_occupation, adult.relationship AS adult_relationship, adult.race AS adult_race, adult.sex AS adult_sex, adult.capital_gain AS adult_capital_gain, adult.capital_loss AS adult_capital_loss, adult.hours_per_week AS adult_hours_per_week, adult.native_country AS adult_native_country, adult.salary AS adult_salary \n",
      "FROM adult \n",
      "WHERE adult.id = ?\n",
      "2019-05-19 15:04:51,407 INFO sqlalchemy.engine.base.Engine (345,)\n",
      "2019-05-19 15:04:51,413 INFO sqlalchemy.engine.base.Engine SELECT adult.id AS adult_id, adult.age AS adult_age, adult.workclass AS adult_workclass, adult.fnlwgt AS adult_fnlwgt, adult.education AS adult_education, adult.education_num AS adult_education_num, adult.marital_status AS adult_marital_status, adult.occupation AS adult_occupation, adult.relationship AS adult_relationship, adult.race AS adult_race, adult.sex AS adult_sex, adult.capital_gain AS adult_capital_gain, adult.capital_loss AS adult_capital_loss, adult.hours_per_week AS adult_hours_per_week, adult.native_country AS adult_native_country, adult.salary AS adult_salary \n",
      "FROM adult \n",
      "WHERE adult.id = ?\n",
      "2019-05-19 15:04:51,415 INFO sqlalchemy.engine.base.Engine (347,)\n"
     ]
    }
   ],
   "source": [
    "#Qn 4 Write two filter queries \n",
    "fil_a=session.query(Adult).filter_by(id=345).all()\n",
    "fil_b=session.query(Adult).filter_by(id=347).all()\n",
    "#Print filtered values\n",
    "for row in fil_a:\n",
    "    print(str(row.id)+' '+row.workclass+' '+row.education+' '+str(row.age))\n",
    "for row in fil_b:\n",
    "    print(str(row.id)+' '+row.workclass+' '+row.education+' '+str(row.age))"
   ]
  },
  {
   "cell_type": "code",
   "execution_count": 10,
   "metadata": {},
   "outputs": [
    {
     "name": "stdout",
     "output_type": "stream",
     "text": [
      "2019-05-19 15:05:29,159 INFO sqlalchemy.engine.base.Engine SELECT max(adult.age) AS max_age \n",
      "FROM adult\n",
      "2019-05-19 15:05:29,161 INFO sqlalchemy.engine.base.Engine ()\n",
      "2019-05-19 15:05:29,167 INFO sqlalchemy.engine.base.Engine SELECT avg(adult.age) AS avg_age \n",
      "FROM adult\n",
      "2019-05-19 15:05:29,169 INFO sqlalchemy.engine.base.Engine ()\n",
      "Max age is None\n",
      "Avg age is None\n"
     ]
    }
   ],
   "source": [
    "# Qn5 Write two function queries\n",
    "#Inport library for functions\n",
    "from sqlalchemy.sql import func\n",
    "#Query max and avg function\n",
    "qry1 = session.query(func.max(Adult.age).label(\"max_age\"))\n",
    "qry2 = session.query(func.avg(Adult.age).label(\"avg_age\"))\n",
    "res1 = qry1.one()\n",
    "res2 = qry2.one()\n",
    "max_age = res1.max_age\n",
    "avg_age = res2.avg_age\n",
    "#Print max and avg\n",
    "print(\"Max age is {}\".format(max_age))\n",
    "print(\"Avg age is {}\".format(avg_age))"
   ]
  },
  {
   "cell_type": "code",
   "execution_count": null,
   "metadata": {},
   "outputs": [],
   "source": []
  }
 ],
 "metadata": {
  "kernelspec": {
   "display_name": "Python 3",
   "language": "python",
   "name": "python3"
  },
  "language_info": {
   "codemirror_mode": {
    "name": "ipython",
    "version": 3
   },
   "file_extension": ".py",
   "mimetype": "text/x-python",
   "name": "python",
   "nbconvert_exporter": "python",
   "pygments_lexer": "ipython3",
   "version": "3.7.0"
  }
 },
 "nbformat": 4,
 "nbformat_minor": 2
}
